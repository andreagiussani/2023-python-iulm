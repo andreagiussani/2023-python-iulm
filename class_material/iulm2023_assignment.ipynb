{
  "cells": [
    {
      "cell_type": "markdown",
      "metadata": {
        "id": "3OxSJsSjXTmx"
      },
      "source": [
        "# IULM Lab Challenge\n",
        "## Data Manipulation with Python - Basic Concepts\n",
        "### Author: Andrea Giussani\n",
        "#### March 2023"
      ]
    },
    {
      "cell_type": "code",
      "source": [
        "import pandas as pd"
      ],
      "metadata": {
        "id": "-QTIeJUxY0O1"
      },
      "execution_count": null,
      "outputs": []
    },
    {
      "cell_type": "markdown",
      "metadata": {
        "id": "iEHDYXNxlePo"
      },
      "source": [
        "## Instruction 1: Import the data\n",
        "You are asked to import the data as a `pandas.DataFrame`, and store it in the variable `df`. The suggestion here is to use the Python `pandas` library. Be also sure you parse the column `day_date` as a datetime.\n",
        "\n",
        "\n",
        "**Hint**: You can parse directly the `day_date` column as a datetime inside the `pd.read_csv` method. To do so, you just need to pass `['day_date']` to the parse_dates argument."
      ]
    },
    {
      "cell_type": "code",
      "source": [
        "filepath = 'https://raw.githubusercontent.com/' + 'andreagiussani/2023-python-iulm/master/data/CompanyValues.csv'"
      ],
      "metadata": {
        "id": "_232eDeMY5rs"
      },
      "execution_count": null,
      "outputs": []
    },
    {
      "cell_type": "code",
      "execution_count": null,
      "metadata": {
        "id": "K0W8ut6alTHS"
      },
      "outputs": [],
      "source": [
        "# TO BE FILLED BY STUDENTS"
      ]
    },
    {
      "cell_type": "markdown",
      "source": [
        "Let us inspect the structure of the dataset using the `.head()` method."
      ],
      "metadata": {
        "id": "mzA7pf18XbwS"
      }
    },
    {
      "cell_type": "code",
      "source": [
        "df.head(2)"
      ],
      "metadata": {
        "id": "t2L8armTjvR5"
      },
      "execution_count": null,
      "outputs": []
    },
    {
      "cell_type": "markdown",
      "source": [
        "The dataset contains several financial data on the major Tech Companies, such as Apple, Google or Microsoft. The companies available are the following ones (just run the next cell):"
      ],
      "metadata": {
        "id": "0SXw8Xg9XHwn"
      }
    },
    {
      "cell_type": "code",
      "source": [
        "set(df.ticker_symbol.to_list())"
      ],
      "metadata": {
        "id": "stbvtkGmcrOZ"
      },
      "execution_count": null,
      "outputs": []
    },
    {
      "cell_type": "markdown",
      "metadata": {
        "id": "_r0ZDZttvA-N"
      },
      "source": [
        "We can inspect the columns' types by applying the `info` method to the `df` object."
      ]
    },
    {
      "cell_type": "code",
      "execution_count": null,
      "metadata": {
        "id": "FIaPPlFqvK83"
      },
      "outputs": [],
      "source": [
        "df.info()"
      ]
    },
    {
      "cell_type": "markdown",
      "source": [
        "Having a datetime is pretty useful, since we can filter the dataset with respect to the `day_date` column, as done in the next cell, for example.\n",
        "\n",
        "1. We create at first a bool condition indicating that `day_date` is greater than, say, `2020-01-01`;\n",
        "2. we apply the boolean condition created in the previous step to the dataframe."
      ],
      "metadata": {
        "id": "L8tAgPCMXqJD"
      }
    },
    {
      "cell_type": "code",
      "source": [
        "bool_cond = df['day_date'] >= '2020-01-01'\n",
        "df_filtered =  df[bool_cond]"
      ],
      "metadata": {
        "id": "gp5mpu_okNSd"
      },
      "execution_count": null,
      "outputs": []
    },
    {
      "cell_type": "markdown",
      "metadata": {
        "id": "faMPUl73LiLp"
      },
      "source": [
        "## Instruction 2: Slice the DataFrame so that only `TSLA` is shown\n",
        "\n",
        "You are asked to slice out all the rows related to the Tesla stock from the orginal DataFrame `df`.\n",
        "\n",
        "1. Create a boolean condition `df.ticker_symbol == 'TSLA'`;  \n",
        "2. Store the new DataFrame object into the variable `tsla_df`."
      ]
    },
    {
      "cell_type": "code",
      "source": [
        "# TO BE FILLED BY STUDENTS"
      ],
      "metadata": {
        "id": "KIsA01MxoeYW"
      },
      "execution_count": null,
      "outputs": []
    },
    {
      "cell_type": "code",
      "execution_count": null,
      "metadata": {
        "id": "trRkD5OoMpNm"
      },
      "outputs": [],
      "source": [
        "tsla_df.shape"
      ]
    },
    {
      "cell_type": "code",
      "source": [
        "tsla_df.head(2)"
      ],
      "metadata": {
        "id": "3arw_RMrt-rE"
      },
      "execution_count": null,
      "outputs": []
    },
    {
      "cell_type": "markdown",
      "metadata": {
        "id": "7ThQ8FSspCfz"
      },
      "source": [
        "## Instruction 3: Build a Method that computes the mean price\n",
        "\n",
        "### Instruction 3.1 Create a Python method\n",
        "You are asked to create a Python method called `compute_daily_mean_price`, which computes the average price between the columns `low_value` and `high_value`. This is done for you in the next cell.This method will be then called while creating the `daily_mean_price_list` in the next instruction."
      ]
    },
    {
      "cell_type": "code",
      "execution_count": null,
      "metadata": {
        "id": "vgOWmnMq1rTc"
      },
      "outputs": [],
      "source": [
        "def compute_daily_mean_price(row):\n",
        "  return (row['high_value'] + row['low_value'])/2"
      ]
    },
    {
      "cell_type": "markdown",
      "metadata": {
        "id": "pNTTZbLf2hsn"
      },
      "source": [
        "#### Instruction 3.2: apply the method rowise\n",
        "You are asked to create a Python list containing the mean values obtained by applying the method `compute_daily_mean_price` element-wise. Be sure you employ the `iterrows()` method to perform the iteration over rows. Store this new object into the variable `daily_mean_price_list`.\n"
      ]
    },
    {
      "cell_type": "code",
      "source": [
        "# TO BE FILLED BY STUDENTS"
      ],
      "metadata": {
        "id": "XTV4hDmAwlzR"
      },
      "execution_count": null,
      "outputs": []
    },
    {
      "cell_type": "markdown",
      "source": [
        "### Instruction 3.3: create a new column\n",
        "Finally, create a new column in the dataframe `df`, namely `daily_mean_price`, and assign the `daily_mean_price_list`.\n",
        "\n",
        "**Hint**. To create the new column `daily_mean_price`, you just need to assign to it the `daily_mean_price_list`."
      ],
      "metadata": {
        "id": "Kqlp9p46Znjv"
      }
    },
    {
      "cell_type": "code",
      "source": [
        "# TO BE FILLED BY STUDENTS"
      ],
      "metadata": {
        "id": "ieD3L1dgZvPY"
      },
      "execution_count": null,
      "outputs": []
    },
    {
      "cell_type": "markdown",
      "metadata": {
        "id": "6cq7z_JnY6_y"
      },
      "source": [
        "Now, let us print the first five rows of the dataFrame `df`:"
      ]
    },
    {
      "cell_type": "code",
      "source": [
        "tsla_df.head()"
      ],
      "metadata": {
        "id": "ad9umZXIxmfu"
      },
      "execution_count": null,
      "outputs": []
    },
    {
      "cell_type": "markdown",
      "metadata": {
        "id": "Dx0S8ClQaMmZ"
      },
      "source": [
        "## Instruction 4: Join two dataframes into one data source\n",
        "\n",
        "In the actual DataFrame `df` we have the stock symbol, represented by the column `ticker_symbol`. However, in another file, called `Company.csv`, we have the full company name. \n",
        "\n",
        "In this step, you are asked to import the `Company.csv` as a `pandas.DataFrame` object. Store it into the variable `companies_df`. Then, you have to join the two DataFrames into a single DataFrame. Call it `df_full`.\n",
        "\n",
        "**Hint**. To join two (or more dataframes), you could either use `pd.concat` or `pd.merge`. Which method is the most suitable in this case? Be sure the order is `companies_df` and `df`.\n"
      ]
    },
    {
      "cell_type": "code",
      "source": [
        "filepath_companies_csv = 'https://raw.githubusercontent.com/' + 'andreagiussani/2023-python-iulm/master/data/Company.csv'"
      ],
      "metadata": {
        "id": "Krm149_LajsS"
      },
      "execution_count": null,
      "outputs": []
    },
    {
      "cell_type": "code",
      "execution_count": null,
      "metadata": {
        "id": "gbsEdzplaM08"
      },
      "outputs": [],
      "source": [
        "# TO BE FILLED BY STUDENT"
      ]
    },
    {
      "cell_type": "markdown",
      "metadata": {
        "id": "-SqlLng2cL6p"
      },
      "source": [
        "You can print the `companies_df` out down below here:"
      ]
    },
    {
      "cell_type": "code",
      "source": [
        "companies_df"
      ],
      "metadata": {
        "id": "4RiHTZfMas09"
      },
      "execution_count": null,
      "outputs": []
    },
    {
      "cell_type": "markdown",
      "metadata": {
        "id": "SRnmZxO5cSDi"
      },
      "source": [
        "Now, let us join the two dataframes - namely `tsla_df` and `companies_df` - into a new object called `df_full`.\n",
        "\n",
        "**Hint**. You can use the `.merge()` function we have seen in class, joining on the `ticker_symbol` column. The syntax goes as follows: `df1.merge(df2, on='ticker_symbol')`"
      ]
    },
    {
      "cell_type": "code",
      "execution_count": null,
      "metadata": {
        "id": "Tlg6YzEYeXWo"
      },
      "outputs": [],
      "source": [
        "# TO BE FILLED BY STUDENT"
      ]
    },
    {
      "cell_type": "markdown",
      "metadata": {
        "id": "_iGmov-_ioWJ"
      },
      "source": [
        "## Create a List of Tuples\n",
        "\n",
        "In this step, you are asked to create a List of Tuples, each containing three distinct elements:\n",
        "\n",
        "\n",
        "1.   The stock symbol.\n",
        "2.   The trading date.\n",
        "3.   The closing price.\n",
        "\n",
        "To make life easier, three distinct lists have been created for you in the next cell. Your task is to create a new list called `to_return` that contains Tuples made of those three elements, in that particular order - namely `(ticker_symbol, day_date, close_value)`.\n",
        "\n",
        "Hence this step has been done for you \n",
        "\n",
        "**Hint**.Try to use a list comprehension here directly. Also, be sure you employ the python `enumerate` method on the `symbol_list` created for you, so that, for example, you can easily access to the corresponding date using the syntax `date_list[idx].strftime('%Y-%m-%d')`. The same logic applies to the `close_value_list`.\n",
        "\n"
      ]
    },
    {
      "cell_type": "code",
      "execution_count": null,
      "metadata": {
        "id": "KkvGymJuihTf"
      },
      "outputs": [],
      "source": [
        "symbol_list = tsla_df.ticker_symbol.to_list()\n",
        "date_list = tsla_df.day_date.to_list()\n",
        "close_value_list = tsla_df.close_value.to_list()"
      ]
    },
    {
      "cell_type": "code",
      "source": [
        "my_new_list = []\n",
        "for idx, x in enumerate(symbol_list):\n",
        "  my_new_list.append((x, date_list[idx].strftime('%Y-%m-%d'), close_value_list[idx]))\n"
      ],
      "metadata": {
        "id": "2z8C6vH03nul"
      },
      "execution_count": null,
      "outputs": []
    },
    {
      "cell_type": "markdown",
      "metadata": {
        "id": "K6JOFAQxZQYW"
      },
      "source": [
        "As a final check, print out the first two elements. "
      ]
    },
    {
      "cell_type": "code",
      "execution_count": null,
      "metadata": {
        "id": "EjCed2WCjH4V"
      },
      "outputs": [],
      "source": [
        "my_new_list[0:3]"
      ]
    },
    {
      "cell_type": "markdown",
      "metadata": {
        "id": "3h63fFdBWTY6"
      },
      "source": [
        "## Instruction 6: Plot the TSLA Series and add a Proper Title"
      ]
    },
    {
      "cell_type": "markdown",
      "metadata": {
        "id": "cF9dvGdjaJDK"
      },
      "source": [
        "### Instruction 6.1: Plot a standard line plot\n",
        "\n",
        "You are asked to plot a standard matplolib line plot down below here. The dataframe to use is the `tsla_df`. The necessary import has been done for you.\n",
        "\n",
        "You are then asked to:\n",
        " \n",
        "\n",
        "1.   create a `subplots` with `figsize` argument equal to `(10,8)`. Be sure you store both the figure and the axes object as `fig` and `ax` , respectively;\n",
        "2.   apply to the axes the `plot` method. Be sure you plot on the `x-axis` the variable `day_date` and on the y-axis the variable `close_value`\n",
        "\n",
        "Finally, be sure you call the `plt.show()` method to show the plot.\n",
        "\n"
      ]
    },
    {
      "cell_type": "code",
      "execution_count": null,
      "metadata": {
        "id": "TsN4c97HHxwa"
      },
      "outputs": [],
      "source": [
        "import matplotlib.pyplot as plt"
      ]
    },
    {
      "cell_type": "code",
      "execution_count": null,
      "metadata": {
        "id": "9tzjgOu9QAM1"
      },
      "outputs": [],
      "source": [
        "# TO BE FILLED BY STUDENT"
      ]
    },
    {
      "cell_type": "markdown",
      "metadata": {
        "id": "PMGrq86BbeAI"
      },
      "source": [
        "### Instruction 6.2: Adding aesthetics to the plot\n",
        "\n",
        "You are asked to add a few aesthetics to the plot, such as labels and a title. \n",
        "As such, copy and paste the previous code, and then you have to\n",
        " \n",
        "\n",
        "1.   add both x and y labels by applying to the axes object the `set_xlabel('Trading Day')` and `set_ylabel('Close Price')` method, respectively;\n",
        "2.   add a title by applying to the axes object the `set_title('TSLA Time Series')` method.\n"
      ]
    },
    {
      "cell_type": "code",
      "execution_count": null,
      "metadata": {
        "id": "4lBE9SKbWg25"
      },
      "outputs": [],
      "source": [
        "# TO BE FILLED BY STUDENT"
      ]
    },
    {
      "cell_type": "markdown",
      "metadata": {
        "id": "9Ud8IWYfdoyY"
      },
      "source": [
        "### Instruction 7: Data Transformation and Aggregation\n",
        "#### Instruction 7.1 Data Transformation\n",
        "The dataset stored in `df_full` is a tidy dataset. We now want to perform aggregating operations with respect to the Close price column, say creating a new `pandas.DataFrame` object containing the Date as index and, as columns, the Stock Name. How would you perform this operation?"
      ]
    },
    {
      "cell_type": "markdown",
      "metadata": {
        "id": "FoRhB-vdeAnY"
      },
      "source": [
        "The `pandas.pivot` method to the rescue! \n",
        "\n",
        "This function requires three arguments:\n",
        "\n",
        "\n",
        "1.   `index`: the column we wish to have as index of the new dataframe - in this case `day_date`; \n",
        "2.   `columns`: the column we wish to have as columns of the new dataframe - in this case `company_name`; \n",
        "3.   `values`: the column we wish to have as values of the new dataframe - in this case `close_value`. \n",
        "\n",
        "\n",
        "\n",
        "Store the result into the object `pivot_close_df`. At the end, we sort the index using the `sort_index` method so that we are sure the index is correctly set. Also, be sure you apply the `fillna(0)` method after sorting the index."
      ]
    },
    {
      "cell_type": "markdown",
      "metadata": {
        "id": "hAxi-cBQhC0N"
      },
      "source": [
        "You are now asked to create the `pivot_table` down below here. Remember to use the `pandas.pivot_table`!"
      ]
    },
    {
      "cell_type": "code",
      "execution_count": null,
      "metadata": {
        "id": "r1TLniXCdHcs"
      },
      "outputs": [],
      "source": [
        "# TO BE FILLED BY STUDENT"
      ]
    },
    {
      "cell_type": "markdown",
      "metadata": {
        "id": "7kH-wWXuhM9J"
      },
      "source": [
        "Let us print the last five rows of the `pivot_close_df` object:"
      ]
    },
    {
      "cell_type": "code",
      "source": [
        "pivot_close_df.head()"
      ],
      "metadata": {
        "id": "pRCWkG4NeUuK"
      },
      "execution_count": null,
      "outputs": []
    },
    {
      "cell_type": "markdown",
      "metadata": {
        "id": "x_G_Dp0zhikf"
      },
      "source": [
        "#### Instruction 7.2 Data Aggregation - compute the mean price observed"
      ]
    },
    {
      "cell_type": "markdown",
      "metadata": {
        "id": "DhO-Gk-Ph1l2"
      },
      "source": [
        "In this step, you are asked to aggregate the `close_value` column of the `full_df` object into the average price observed for all the stocks. be sure you store the resulting dataframe into the variable `mean_close_df`.\n",
        "\n",
        "**Hint**. Use the groupby method here."
      ]
    },
    {
      "cell_type": "code",
      "execution_count": null,
      "metadata": {
        "id": "aGAt1W7ZfqyK"
      },
      "outputs": [],
      "source": [
        "# TO BE FILLED BY STUDENT"
      ]
    },
    {
      "cell_type": "markdown",
      "metadata": {
        "id": "oNHh6YpTX7k6"
      },
      "source": [
        "**End**"
      ]
    }
  ],
  "metadata": {
    "colab": {
      "provenance": []
    },
    "kernelspec": {
      "display_name": "Python 3",
      "language": "python",
      "name": "python3"
    },
    "language_info": {
      "codemirror_mode": {
        "name": "ipython",
        "version": 3
      },
      "file_extension": ".py",
      "mimetype": "text/x-python",
      "name": "python",
      "nbconvert_exporter": "python",
      "pygments_lexer": "ipython3",
      "version": "3.7.3"
    }
  },
  "nbformat": 4,
  "nbformat_minor": 0
}