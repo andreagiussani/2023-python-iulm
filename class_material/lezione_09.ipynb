{
  "nbformat": 4,
  "nbformat_minor": 0,
  "metadata": {
    "colab": {
      "provenance": []
    },
    "kernelspec": {
      "name": "python3",
      "display_name": "Python 3"
    },
    "language_info": {
      "name": "python"
    }
  },
  "cells": [
    {
      "cell_type": "markdown",
      "source": [
        "## Text Analysis"
      ],
      "metadata": {
        "id": "1MvE3-LJklyJ"
      }
    },
    {
      "cell_type": "code",
      "source": [
        "# gensim 2008\n",
        "# nltk 2011\n",
        "# spacy 2016"
      ],
      "metadata": {
        "id": "NrR_fRThkpgA"
      },
      "execution_count": null,
      "outputs": []
    },
    {
      "cell_type": "markdown",
      "source": [
        "andrea.giussani@unibocconi.it"
      ],
      "metadata": {
        "id": "wGJ8qeZryVJP"
      }
    },
    {
      "cell_type": "markdown",
      "source": [
        "https://spacy.io/usage/models"
      ],
      "metadata": {
        "id": "BgFxQ9aXnAe5"
      }
    },
    {
      "cell_type": "code",
      "source": [
        "import spacy"
      ],
      "metadata": {
        "id": "6HAG7lwsk2PY"
      },
      "execution_count": null,
      "outputs": []
    },
    {
      "cell_type": "code",
      "source": [
        "model_en = spacy.load(\"en_core_web_sm\")  # \"it_core_news_sm\""
      ],
      "metadata": {
        "id": "xPYmPLRBlH6n"
      },
      "execution_count": null,
      "outputs": []
    },
    {
      "cell_type": "code",
      "source": [
        "type(model_en)"
      ],
      "metadata": {
        "id": "gRZHkHlVm1Tr"
      },
      "execution_count": null,
      "outputs": []
    },
    {
      "cell_type": "code",
      "source": [
        "sentence = \"This is the first time I see a spacy pipeline.\"\n",
        "doc = model_en(sentence)"
      ],
      "metadata": {
        "id": "6sJbE2p4m7_w"
      },
      "execution_count": null,
      "outputs": []
    },
    {
      "cell_type": "code",
      "source": [
        "type(doc)"
      ],
      "metadata": {
        "id": "AOYpbIgpn1LL"
      },
      "execution_count": null,
      "outputs": []
    },
    {
      "cell_type": "markdown",
      "source": [
        "Come posso estrarre i token dalla sentence?"
      ],
      "metadata": {
        "id": "f2oW0mFLoRKv"
      }
    },
    {
      "cell_type": "code",
      "source": [
        "# python"
      ],
      "metadata": {
        "id": "fBYkhhFvn2Zx"
      },
      "execution_count": null,
      "outputs": []
    },
    {
      "cell_type": "code",
      "source": [
        "sentence.split()"
      ],
      "metadata": {
        "id": "IbisWvBtomcm"
      },
      "execution_count": null,
      "outputs": []
    },
    {
      "cell_type": "code",
      "source": [
        "# spacy"
      ],
      "metadata": {
        "id": "yRceuTUsotje"
      },
      "execution_count": null,
      "outputs": []
    },
    {
      "cell_type": "code",
      "source": [
        "my_tkns = [elem.text for elem in doc]"
      ],
      "metadata": {
        "id": "8okos5ohptNj"
      },
      "execution_count": null,
      "outputs": []
    },
    {
      "cell_type": "code",
      "source": [
        "my_tkns"
      ],
      "metadata": {
        "id": "yUp0tiZKpx1x"
      },
      "execution_count": null,
      "outputs": []
    },
    {
      "cell_type": "code",
      "source": [
        "sentence = \"The price of the Apple stock has surged by 5% in the last week at $150.\"\n",
        "doc = model_en(sentence)"
      ],
      "metadata": {
        "id": "GgMoPVR2rCLO"
      },
      "execution_count": null,
      "outputs": []
    },
    {
      "cell_type": "code",
      "source": [
        "doc[0:2]"
      ],
      "metadata": {
        "id": "RLF7b2281w5b"
      },
      "execution_count": null,
      "outputs": []
    },
    {
      "cell_type": "code",
      "source": [
        "my_compressed_text = []\n",
        "for elem in doc:\n",
        "  print(\n",
        "      f'{elem.text} --> {elem.is_alpha} --> {elem.is_currency} --> {elem.is_stop} -->'\n",
        "      f'{elem.lemma_} --> {elem.lemma} --> {elem.pos_}'\n",
        "      )\n",
        "  if elem.is_stop or elem.pos_ == 'PUNCT':\n",
        "    continue\n",
        "  my_compressed_text.append(elem.lemma_)"
      ],
      "metadata": {
        "id": "gjvmpvblqDNq"
      },
      "execution_count": null,
      "outputs": []
    },
    {
      "cell_type": "code",
      "source": [
        "my_compressed_text"
      ],
      "metadata": {
        "id": "7pyIugTPvtYS"
      },
      "execution_count": null,
      "outputs": []
    },
    {
      "cell_type": "code",
      "source": [
        "my_compressed_text \n",
        "# questa lista mantiene le parole che hanno la stessa capacita informativa della frase originaLE"
      ],
      "metadata": {
        "id": "QG9Bx3uTrPkD"
      },
      "execution_count": null,
      "outputs": []
    },
    {
      "cell_type": "code",
      "source": [],
      "metadata": {
        "id": "WuqmOaKJsl5N"
      },
      "execution_count": null,
      "outputs": []
    },
    {
      "cell_type": "markdown",
      "source": [
        "isn't --> IS NOT \n",
        "has given -> TO HAVE + GERUNDIO --> given\n",
        "to give\n",
        "\n",
        "laptop vs laptotps"
      ],
      "metadata": {
        "id": "-qdAFezftr0W"
      }
    },
    {
      "cell_type": "code",
      "source": [
        "model_en = spacy.load(\"en_core_web_sm\")"
      ],
      "metadata": {
        "id": "l-aVG3RX2dZr"
      },
      "execution_count": null,
      "outputs": []
    },
    {
      "cell_type": "code",
      "source": [
        "sentence = \"The price of the Apple stock has surged by 5% in the last week at $150.\"\n",
        "doc = model_en(sentence)"
      ],
      "metadata": {
        "id": "_1mjWjGxumV4"
      },
      "execution_count": null,
      "outputs": []
    },
    {
      "cell_type": "code",
      "source": [
        "doc.ents"
      ],
      "metadata": {
        "id": "ue7JRE1l2y_h"
      },
      "execution_count": null,
      "outputs": []
    },
    {
      "cell_type": "code",
      "source": [
        "for elem in doc.ents:\n",
        "  print(\n",
        "      f'{elem.text} --> {elem.start_char} --> {elem.end_char} --> {elem.label_}'\n",
        "      )\n"
      ],
      "metadata": {
        "id": "qdRNSIDt19ig"
      },
      "execution_count": null,
      "outputs": []
    },
    {
      "cell_type": "code",
      "source": [
        "sentence = \"Barack Obama was the President of the USA\"\n",
        "doc = model_en(sentence)"
      ],
      "metadata": {
        "id": "RUm4lvT82TnZ"
      },
      "execution_count": null,
      "outputs": []
    },
    {
      "cell_type": "code",
      "source": [
        "doc.ents"
      ],
      "metadata": {
        "id": "8MDmmh8N31ze"
      },
      "execution_count": null,
      "outputs": []
    },
    {
      "cell_type": "code",
      "source": [
        "for elem in doc.ents:\n",
        "  print(\n",
        "      f'{elem.text} --> {elem.start_char} --> {elem.end_char} --> {elem.label_}'\n",
        "      )"
      ],
      "metadata": {
        "id": "5ynVdbIi3MP5"
      },
      "execution_count": null,
      "outputs": []
    },
    {
      "cell_type": "markdown",
      "source": [
        "# Costruire una Pipeline di Sentiment Analysis"
      ],
      "metadata": {
        "id": "WniQBJMI4_4M"
      }
    },
    {
      "cell_type": "code",
      "source": [
        "import pandas as pd\n",
        "filepath = 'https://raw.githubusercontent.com/andreagiussani/2023-python-iulm/master/bbc_data/bbc_train.csv'\n",
        "train_df = pd.read_csv(filepath)"
      ],
      "metadata": {
        "id": "BkCTgCQC3NxZ"
      },
      "execution_count": null,
      "outputs": []
    },
    {
      "cell_type": "code",
      "source": [
        "train_df.Category.value_counts()"
      ],
      "metadata": {
        "id": "Ck_6aWv56AtM"
      },
      "execution_count": null,
      "outputs": []
    },
    {
      "cell_type": "code",
      "source": [
        "train_df.head(10)"
      ],
      "metadata": {
        "id": "c79lMyf97t3f"
      },
      "execution_count": null,
      "outputs": []
    },
    {
      "cell_type": "code",
      "source": [
        "train_df.Category.factorize()"
      ],
      "metadata": {
        "id": "wEaCBK8_7neT"
      },
      "execution_count": null,
      "outputs": []
    },
    {
      "cell_type": "code",
      "source": [
        "train_df['category_new'] = train_df.Category.factorize()[0]"
      ],
      "metadata": {
        "id": "j2O87hOP6Eaj"
      },
      "execution_count": null,
      "outputs": []
    },
    {
      "cell_type": "code",
      "source": [
        "train_df[['category_new', 'Category']].drop_duplicates()"
      ],
      "metadata": {
        "id": "PdMTk45s7DXd"
      },
      "execution_count": null,
      "outputs": []
    },
    {
      "cell_type": "code",
      "source": [
        "train_df.head()"
      ],
      "metadata": {
        "id": "mSl6c99-7cYl"
      },
      "execution_count": null,
      "outputs": []
    },
    {
      "cell_type": "markdown",
      "source": [
        "# Tfidf vectorizer"
      ],
      "metadata": {
        "id": "tu3BvmXz8iN6"
      }
    },
    {
      "cell_type": "markdown",
      "source": [
        "bank -> (river bank)\n",
        "bank -> (bank to)\n",
        "\n",
        "I went to the bank to withdraw the money ->\n",
        " went  bank  withdraw  money\n",
        "\n",
        " (went bank)\n",
        " (bank withdraw)\n",
        "\n",
        "\n",
        "The boat was on the river bank\n",
        "  boat river bank\n",
        "\n",
        "  (river bank)"
      ],
      "metadata": {
        "id": "FLk_wMBi_VT0"
      }
    },
    {
      "cell_type": "markdown",
      "source": [
        "s2 = 'inzaghi IS GOOD'\n",
        "s1 = 'The boat was on the river bank boat river bank'"
      ],
      "metadata": {
        "id": "l0kZgkTuDJHk"
      }
    },
    {
      "cell_type": "markdown",
      "source": [
        "    boat river bank INZAGHI good\n",
        "\n",
        "s1  1    1    1     0   0   \n",
        "s2  0   0     0     1   1"
      ],
      "metadata": {
        "id": "MlKhziUDC-Le"
      }
    },
    {
      "cell_type": "code",
      "source": [
        "from sklearn.feature_extraction.text import TfidfVectorizer\n",
        "tfidf = TfidfVectorizer(\n",
        "    stop_words = 'english',\n",
        "    ngram_range= (1,2),\n",
        "    min_df = 5,\n",
        "    sublinear_tf=True,\n",
        ")"
      ],
      "metadata": {
        "id": "pQVCUkBU8Qln"
      },
      "execution_count": null,
      "outputs": []
    },
    {
      "cell_type": "code",
      "source": [
        "tfidf.fit(train_df.Text)"
      ],
      "metadata": {
        "id": "4uvc-18gB9RS"
      },
      "execution_count": null,
      "outputs": []
    },
    {
      "cell_type": "code",
      "source": [
        "X = tfidf.transform(train_df.Text).toarray()"
      ],
      "metadata": {
        "id": "eUawVLt-CSny"
      },
      "execution_count": null,
      "outputs": []
    },
    {
      "cell_type": "code",
      "source": [
        "X"
      ],
      "metadata": {
        "id": "CEHDINpgD7HG"
      },
      "execution_count": null,
      "outputs": []
    },
    {
      "cell_type": "code",
      "source": [
        "y = train_df.category_new"
      ],
      "metadata": {
        "id": "hWWdsuDPCbEp"
      },
      "execution_count": null,
      "outputs": []
    },
    {
      "cell_type": "markdown",
      "source": [
        "## Classificare il testo"
      ],
      "metadata": {
        "id": "1l9eqsJCEAN1"
      }
    },
    {
      "cell_type": "code",
      "source": [
        "# LogisticRegression"
      ],
      "metadata": {
        "id": "F-0JRlPjEMeA"
      },
      "execution_count": null,
      "outputs": []
    },
    {
      "cell_type": "code",
      "source": [
        "from sklearn.linear_model import LogisticRegression\n",
        "lr = LogisticRegression()\n",
        "lr.fit(X, y) # where X is the TFIDF matrix"
      ],
      "metadata": {
        "id": "gMjEIRjwD3kU"
      },
      "execution_count": null,
      "outputs": []
    },
    {
      "cell_type": "code",
      "source": [
        "filepath = 'https://raw.githubusercontent.com/andreagiussani/2023-python-iulm/master/bbc_data/bbc_test.csv'\n",
        "test_df = pd.read_csv(filepath)"
      ],
      "metadata": {
        "id": "fjC8hNWIEmHd"
      },
      "execution_count": null,
      "outputs": []
    },
    {
      "cell_type": "code",
      "source": [
        "# 1. trasformo il testo di test\n",
        "X_test = tfidf.transform(test_df['Text'])"
      ],
      "metadata": {
        "id": "ZfAMRAokEvTV"
      },
      "execution_count": null,
      "outputs": []
    },
    {
      "cell_type": "code",
      "source": [
        "# 2. classifico il testo\n",
        "y_pred = lr.predict(X_test)"
      ],
      "metadata": {
        "id": "a20V9CTnE3oc"
      },
      "execution_count": null,
      "outputs": []
    },
    {
      "cell_type": "code",
      "source": [
        "y_pred[0:2]"
      ],
      "metadata": {
        "id": "FU_9zRItE_6t"
      },
      "execution_count": null,
      "outputs": []
    },
    {
      "cell_type": "code",
      "source": [
        "test_df.iloc[1].Text"
      ],
      "metadata": {
        "id": "SWf_ycfeFDxV"
      },
      "execution_count": null,
      "outputs": []
    },
    {
      "cell_type": "code",
      "source": [
        "# End"
      ],
      "metadata": {
        "id": "tD-BFYbqFKM9"
      },
      "execution_count": null,
      "outputs": []
    }
  ]
}